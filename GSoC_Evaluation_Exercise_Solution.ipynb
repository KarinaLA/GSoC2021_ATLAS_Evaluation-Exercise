{
  "nbformat": 4,
  "nbformat_minor": 0,
  "metadata": {
    "kernelspec": {
      "display_name": "Python 3",
      "language": "python",
      "name": "python3"
    },
    "language_info": {
      "codemirror_mode": {
        "name": "ipython",
        "version": 3
      },
      "file_extension": ".py",
      "mimetype": "text/x-python",
      "name": "python",
      "nbconvert_exporter": "python",
      "pygments_lexer": "ipython3",
      "version": "3.7.2"
    },
    "colab": {
      "name": "GSoC_Evaluation_Exercise_Solution.ipynb",
      "provenance": [],
      "collapsed_sections": []
    },
    "accelerator": "GPU"
  },
  "cells": [
    {
      "cell_type": "markdown",
      "metadata": {
        "id": "Pz3NnL_SQORK"
      },
      "source": [
        "# **Step 1: Loading and Viewing the Dataset**"
      ]
    },
    {
      "cell_type": "code",
      "metadata": {
        "colab": {
          "base_uri": "https://localhost:8080/",
          "height": 1000
        },
        "id": "h_FehXXTEkZD",
        "outputId": "9947b9cf-04c1-4406-d0bb-de03187acc67"
      },
      "source": [
        "!pip install -U fastai"
      ],
      "execution_count": 28,
      "outputs": [
        {
          "output_type": "stream",
          "text": [
            "Collecting fastai\n",
            "\u001b[?25l  Downloading https://files.pythonhosted.org/packages/79/50/0b81742909d433ef5b67b4417597b41cd37b38a073714bc83dc150c81b2f/fastai-2.2.7-py3-none-any.whl (193kB)\n",
            "\r\u001b[K     |█▊                              | 10kB 23.9MB/s eta 0:00:01\r\u001b[K     |███▍                            | 20kB 30.9MB/s eta 0:00:01\r\u001b[K     |█████                           | 30kB 22.7MB/s eta 0:00:01\r\u001b[K     |██████▉                         | 40kB 20.6MB/s eta 0:00:01\r\u001b[K     |████████▌                       | 51kB 20.1MB/s eta 0:00:01\r\u001b[K     |██████████▏                     | 61kB 15.2MB/s eta 0:00:01\r\u001b[K     |███████████▉                    | 71kB 15.7MB/s eta 0:00:01\r\u001b[K     |█████████████▋                  | 81kB 15.4MB/s eta 0:00:01\r\u001b[K     |███████████████▎                | 92kB 15.3MB/s eta 0:00:01\r\u001b[K     |█████████████████               | 102kB 15.5MB/s eta 0:00:01\r\u001b[K     |██████████████████▋             | 112kB 15.5MB/s eta 0:00:01\r\u001b[K     |████████████████████▍           | 122kB 15.5MB/s eta 0:00:01\r\u001b[K     |██████████████████████          | 133kB 15.5MB/s eta 0:00:01\r\u001b[K     |███████████████████████▊        | 143kB 15.5MB/s eta 0:00:01\r\u001b[K     |█████████████████████████▍      | 153kB 15.5MB/s eta 0:00:01\r\u001b[K     |███████████████████████████▏    | 163kB 15.5MB/s eta 0:00:01\r\u001b[K     |████████████████████████████▉   | 174kB 15.5MB/s eta 0:00:01\r\u001b[K     |██████████████████████████████▌ | 184kB 15.5MB/s eta 0:00:01\r\u001b[K     |████████████████████████████████| 194kB 15.5MB/s \n",
            "\u001b[?25hRequirement already satisfied, skipping upgrade: fastprogress>=0.2.4 in /usr/local/lib/python3.7/dist-packages (from fastai) (1.0.0)\n",
            "Requirement already satisfied, skipping upgrade: spacy<3 in /usr/local/lib/python3.7/dist-packages (from fastai) (2.2.4)\n",
            "Requirement already satisfied, skipping upgrade: scipy in /usr/local/lib/python3.7/dist-packages (from fastai) (1.4.1)\n",
            "Requirement already satisfied, skipping upgrade: packaging in /usr/local/lib/python3.7/dist-packages (from fastai) (20.9)\n",
            "Requirement already satisfied, skipping upgrade: pyyaml in /usr/local/lib/python3.7/dist-packages (from fastai) (3.13)\n",
            "Requirement already satisfied, skipping upgrade: pillow>6.0.0 in /usr/local/lib/python3.7/dist-packages (from fastai) (7.0.0)\n",
            "Requirement already satisfied, skipping upgrade: matplotlib in /usr/local/lib/python3.7/dist-packages (from fastai) (3.2.2)\n",
            "Requirement already satisfied, skipping upgrade: scikit-learn in /usr/local/lib/python3.7/dist-packages (from fastai) (0.22.2.post1)\n",
            "Collecting torch<1.8,>=1.7.0\n",
            "\u001b[?25l  Downloading https://files.pythonhosted.org/packages/90/5d/095ddddc91c8a769a68c791c019c5793f9c4456a688ddd235d6670924ecb/torch-1.7.1-cp37-cp37m-manylinux1_x86_64.whl (776.8MB)\n",
            "\u001b[K     |████████████████████████████████| 776.8MB 23kB/s \n",
            "\u001b[?25hCollecting fastcore<1.4,>=1.3.8\n",
            "\u001b[?25l  Downloading https://files.pythonhosted.org/packages/0c/98/60404e2817cff113a6ae4023bc1772e23179408fdf7857fa410551758dfe/fastcore-1.3.19-py3-none-any.whl (53kB)\n",
            "\u001b[K     |████████████████████████████████| 61kB 8.1MB/s \n",
            "\u001b[?25hRequirement already satisfied, skipping upgrade: requests in /usr/local/lib/python3.7/dist-packages (from fastai) (2.23.0)\n",
            "Requirement already satisfied, skipping upgrade: pip in /usr/local/lib/python3.7/dist-packages (from fastai) (19.3.1)\n",
            "Collecting torchvision<0.9,>=0.8\n",
            "\u001b[?25l  Downloading https://files.pythonhosted.org/packages/94/df/969e69a94cff1c8911acb0688117f95e1915becc1e01c73e7960a2c76ec8/torchvision-0.8.2-cp37-cp37m-manylinux1_x86_64.whl (12.8MB)\n",
            "\u001b[K     |████████████████████████████████| 12.8MB 245kB/s \n",
            "\u001b[?25hRequirement already satisfied, skipping upgrade: pandas in /usr/local/lib/python3.7/dist-packages (from fastai) (1.1.5)\n",
            "Requirement already satisfied, skipping upgrade: numpy in /usr/local/lib/python3.7/dist-packages (from fastprogress>=0.2.4->fastai) (1.19.5)\n",
            "Requirement already satisfied, skipping upgrade: tqdm<5.0.0,>=4.38.0 in /usr/local/lib/python3.7/dist-packages (from spacy<3->fastai) (4.41.1)\n",
            "Requirement already satisfied, skipping upgrade: thinc==7.4.0 in /usr/local/lib/python3.7/dist-packages (from spacy<3->fastai) (7.4.0)\n",
            "Requirement already satisfied, skipping upgrade: catalogue<1.1.0,>=0.0.7 in /usr/local/lib/python3.7/dist-packages (from spacy<3->fastai) (1.0.0)\n",
            "Requirement already satisfied, skipping upgrade: plac<1.2.0,>=0.9.6 in /usr/local/lib/python3.7/dist-packages (from spacy<3->fastai) (1.1.3)\n",
            "Requirement already satisfied, skipping upgrade: setuptools in /usr/local/lib/python3.7/dist-packages (from spacy<3->fastai) (54.1.2)\n",
            "Requirement already satisfied, skipping upgrade: srsly<1.1.0,>=1.0.2 in /usr/local/lib/python3.7/dist-packages (from spacy<3->fastai) (1.0.5)\n",
            "Requirement already satisfied, skipping upgrade: murmurhash<1.1.0,>=0.28.0 in /usr/local/lib/python3.7/dist-packages (from spacy<3->fastai) (1.0.5)\n",
            "Requirement already satisfied, skipping upgrade: wasabi<1.1.0,>=0.4.0 in /usr/local/lib/python3.7/dist-packages (from spacy<3->fastai) (0.8.2)\n",
            "Requirement already satisfied, skipping upgrade: blis<0.5.0,>=0.4.0 in /usr/local/lib/python3.7/dist-packages (from spacy<3->fastai) (0.4.1)\n",
            "Requirement already satisfied, skipping upgrade: cymem<2.1.0,>=2.0.2 in /usr/local/lib/python3.7/dist-packages (from spacy<3->fastai) (2.0.5)\n",
            "Requirement already satisfied, skipping upgrade: preshed<3.1.0,>=3.0.2 in /usr/local/lib/python3.7/dist-packages (from spacy<3->fastai) (3.0.5)\n",
            "Requirement already satisfied, skipping upgrade: pyparsing>=2.0.2 in /usr/local/lib/python3.7/dist-packages (from packaging->fastai) (2.4.7)\n",
            "Requirement already satisfied, skipping upgrade: kiwisolver>=1.0.1 in /usr/local/lib/python3.7/dist-packages (from matplotlib->fastai) (1.3.1)\n",
            "Requirement already satisfied, skipping upgrade: python-dateutil>=2.1 in /usr/local/lib/python3.7/dist-packages (from matplotlib->fastai) (2.8.1)\n",
            "Requirement already satisfied, skipping upgrade: cycler>=0.10 in /usr/local/lib/python3.7/dist-packages (from matplotlib->fastai) (0.10.0)\n",
            "Requirement already satisfied, skipping upgrade: joblib>=0.11 in /usr/local/lib/python3.7/dist-packages (from scikit-learn->fastai) (1.0.1)\n",
            "Requirement already satisfied, skipping upgrade: typing-extensions in /usr/local/lib/python3.7/dist-packages (from torch<1.8,>=1.7.0->fastai) (3.7.4.3)\n",
            "Requirement already satisfied, skipping upgrade: chardet<4,>=3.0.2 in /usr/local/lib/python3.7/dist-packages (from requests->fastai) (3.0.4)\n",
            "Requirement already satisfied, skipping upgrade: certifi>=2017.4.17 in /usr/local/lib/python3.7/dist-packages (from requests->fastai) (2020.12.5)\n",
            "Requirement already satisfied, skipping upgrade: idna<3,>=2.5 in /usr/local/lib/python3.7/dist-packages (from requests->fastai) (2.10)\n",
            "Requirement already satisfied, skipping upgrade: urllib3!=1.25.0,!=1.25.1,<1.26,>=1.21.1 in /usr/local/lib/python3.7/dist-packages (from requests->fastai) (1.24.3)\n",
            "Requirement already satisfied, skipping upgrade: pytz>=2017.2 in /usr/local/lib/python3.7/dist-packages (from pandas->fastai) (2018.9)\n",
            "Requirement already satisfied, skipping upgrade: importlib-metadata>=0.20; python_version < \"3.8\" in /usr/local/lib/python3.7/dist-packages (from catalogue<1.1.0,>=0.0.7->spacy<3->fastai) (3.7.2)\n",
            "Requirement already satisfied, skipping upgrade: six>=1.5 in /usr/local/lib/python3.7/dist-packages (from python-dateutil>=2.1->matplotlib->fastai) (1.15.0)\n",
            "Requirement already satisfied, skipping upgrade: zipp>=0.5 in /usr/local/lib/python3.7/dist-packages (from importlib-metadata>=0.20; python_version < \"3.8\"->catalogue<1.1.0,>=0.0.7->spacy<3->fastai) (3.4.1)\n",
            "\u001b[31mERROR: torchtext 0.9.0 has requirement torch==1.8.0, but you'll have torch 1.7.1 which is incompatible.\u001b[0m\n",
            "Installing collected packages: torch, fastcore, torchvision, fastai\n",
            "  Found existing installation: torch 1.8.0+cu101\n",
            "    Uninstalling torch-1.8.0+cu101:\n",
            "      Successfully uninstalled torch-1.8.0+cu101\n",
            "  Found existing installation: torchvision 0.9.0+cu101\n",
            "    Uninstalling torchvision-0.9.0+cu101:\n",
            "      Successfully uninstalled torchvision-0.9.0+cu101\n",
            "  Found existing installation: fastai 1.0.61\n",
            "    Uninstalling fastai-1.0.61:\n",
            "      Successfully uninstalled fastai-1.0.61\n",
            "Successfully installed fastai-2.2.7 fastcore-1.3.19 torch-1.7.1 torchvision-0.8.2\n"
          ],
          "name": "stdout"
        },
        {
          "output_type": "display_data",
          "data": {
            "application/vnd.colab-display-data+json": {
              "pip_warning": {
                "packages": [
                  "fastai",
                  "torch"
                ]
              }
            }
          },
          "metadata": {
            "tags": []
          }
        }
      ]
    },
    {
      "cell_type": "code",
      "metadata": {
        "id": "ItvEYOm1IkV7"
      },
      "source": [
        "# Imports for dataset manipulation\n",
        "from google.colab import files\n",
        "import io\n",
        "import numpy as np\n",
        "from itertools import zip_longest\n",
        "import pandas as pd\n",
        "import re\n",
        "from numpy.random import RandomState"
      ],
      "execution_count": 1,
      "outputs": []
    },
    {
      "cell_type": "code",
      "metadata": {
        "colab": {
          "resources": {
            "http://localhost:8080/nbextensions/google.colab/files.js": {
              "data": "Ly8gQ29weXJpZ2h0IDIwMTcgR29vZ2xlIExMQwovLwovLyBMaWNlbnNlZCB1bmRlciB0aGUgQXBhY2hlIExpY2Vuc2UsIFZlcnNpb24gMi4wICh0aGUgIkxpY2Vuc2UiKTsKLy8geW91IG1heSBub3QgdXNlIHRoaXMgZmlsZSBleGNlcHQgaW4gY29tcGxpYW5jZSB3aXRoIHRoZSBMaWNlbnNlLgovLyBZb3UgbWF5IG9idGFpbiBhIGNvcHkgb2YgdGhlIExpY2Vuc2UgYXQKLy8KLy8gICAgICBodHRwOi8vd3d3LmFwYWNoZS5vcmcvbGljZW5zZXMvTElDRU5TRS0yLjAKLy8KLy8gVW5sZXNzIHJlcXVpcmVkIGJ5IGFwcGxpY2FibGUgbGF3IG9yIGFncmVlZCB0byBpbiB3cml0aW5nLCBzb2Z0d2FyZQovLyBkaXN0cmlidXRlZCB1bmRlciB0aGUgTGljZW5zZSBpcyBkaXN0cmlidXRlZCBvbiBhbiAiQVMgSVMiIEJBU0lTLAovLyBXSVRIT1VUIFdBUlJBTlRJRVMgT1IgQ09ORElUSU9OUyBPRiBBTlkgS0lORCwgZWl0aGVyIGV4cHJlc3Mgb3IgaW1wbGllZC4KLy8gU2VlIHRoZSBMaWNlbnNlIGZvciB0aGUgc3BlY2lmaWMgbGFuZ3VhZ2UgZ292ZXJuaW5nIHBlcm1pc3Npb25zIGFuZAovLyBsaW1pdGF0aW9ucyB1bmRlciB0aGUgTGljZW5zZS4KCi8qKgogKiBAZmlsZW92ZXJ2aWV3IEhlbHBlcnMgZm9yIGdvb2dsZS5jb2xhYiBQeXRob24gbW9kdWxlLgogKi8KKGZ1bmN0aW9uKHNjb3BlKSB7CmZ1bmN0aW9uIHNwYW4odGV4dCwgc3R5bGVBdHRyaWJ1dGVzID0ge30pIHsKICBjb25zdCBlbGVtZW50ID0gZG9jdW1lbnQuY3JlYXRlRWxlbWVudCgnc3BhbicpOwogIGVsZW1lbnQudGV4dENvbnRlbnQgPSB0ZXh0OwogIGZvciAoY29uc3Qga2V5IG9mIE9iamVjdC5rZXlzKHN0eWxlQXR0cmlidXRlcykpIHsKICAgIGVsZW1lbnQuc3R5bGVba2V5XSA9IHN0eWxlQXR0cmlidXRlc1trZXldOwogIH0KICByZXR1cm4gZWxlbWVudDsKfQoKLy8gTWF4IG51bWJlciBvZiBieXRlcyB3aGljaCB3aWxsIGJlIHVwbG9hZGVkIGF0IGEgdGltZS4KY29uc3QgTUFYX1BBWUxPQURfU0laRSA9IDEwMCAqIDEwMjQ7CgpmdW5jdGlvbiBfdXBsb2FkRmlsZXMoaW5wdXRJZCwgb3V0cHV0SWQpIHsKICBjb25zdCBzdGVwcyA9IHVwbG9hZEZpbGVzU3RlcChpbnB1dElkLCBvdXRwdXRJZCk7CiAgY29uc3Qgb3V0cHV0RWxlbWVudCA9IGRvY3VtZW50LmdldEVsZW1lbnRCeUlkKG91dHB1dElkKTsKICAvLyBDYWNoZSBzdGVwcyBvbiB0aGUgb3V0cHV0RWxlbWVudCB0byBtYWtlIGl0IGF2YWlsYWJsZSBmb3IgdGhlIG5leHQgY2FsbAogIC8vIHRvIHVwbG9hZEZpbGVzQ29udGludWUgZnJvbSBQeXRob24uCiAgb3V0cHV0RWxlbWVudC5zdGVwcyA9IHN0ZXBzOwoKICByZXR1cm4gX3VwbG9hZEZpbGVzQ29udGludWUob3V0cHV0SWQpOwp9CgovLyBUaGlzIGlzIHJvdWdobHkgYW4gYXN5bmMgZ2VuZXJhdG9yIChub3Qgc3VwcG9ydGVkIGluIHRoZSBicm93c2VyIHlldCksCi8vIHdoZXJlIHRoZXJlIGFyZSBtdWx0aXBsZSBhc3luY2hyb25vdXMgc3RlcHMgYW5kIHRoZSBQeXRob24gc2lkZSBpcyBnb2luZwovLyB0byBwb2xsIGZvciBjb21wbGV0aW9uIG9mIGVhY2ggc3RlcC4KLy8gVGhpcyB1c2VzIGEgUHJvbWlzZSB0byBibG9jayB0aGUgcHl0aG9uIHNpZGUgb24gY29tcGxldGlvbiBvZiBlYWNoIHN0ZXAsCi8vIHRoZW4gcGFzc2VzIHRoZSByZXN1bHQgb2YgdGhlIHByZXZpb3VzIHN0ZXAgYXMgdGhlIGlucHV0IHRvIHRoZSBuZXh0IHN0ZXAuCmZ1bmN0aW9uIF91cGxvYWRGaWxlc0NvbnRpbnVlKG91dHB1dElkKSB7CiAgY29uc3Qgb3V0cHV0RWxlbWVudCA9IGRvY3VtZW50LmdldEVsZW1lbnRCeUlkKG91dHB1dElkKTsKICBjb25zdCBzdGVwcyA9IG91dHB1dEVsZW1lbnQuc3RlcHM7CgogIGNvbnN0IG5leHQgPSBzdGVwcy5uZXh0KG91dHB1dEVsZW1lbnQubGFzdFByb21pc2VWYWx1ZSk7CiAgcmV0dXJuIFByb21pc2UucmVzb2x2ZShuZXh0LnZhbHVlLnByb21pc2UpLnRoZW4oKHZhbHVlKSA9PiB7CiAgICAvLyBDYWNoZSB0aGUgbGFzdCBwcm9taXNlIHZhbHVlIHRvIG1ha2UgaXQgYXZhaWxhYmxlIHRvIHRoZSBuZXh0CiAgICAvLyBzdGVwIG9mIHRoZSBnZW5lcmF0b3IuCiAgICBvdXRwdXRFbGVtZW50Lmxhc3RQcm9taXNlVmFsdWUgPSB2YWx1ZTsKICAgIHJldHVybiBuZXh0LnZhbHVlLnJlc3BvbnNlOwogIH0pOwp9CgovKioKICogR2VuZXJhdG9yIGZ1bmN0aW9uIHdoaWNoIGlzIGNhbGxlZCBiZXR3ZWVuIGVhY2ggYXN5bmMgc3RlcCBvZiB0aGUgdXBsb2FkCiAqIHByb2Nlc3MuCiAqIEBwYXJhbSB7c3RyaW5nfSBpbnB1dElkIEVsZW1lbnQgSUQgb2YgdGhlIGlucHV0IGZpbGUgcGlja2VyIGVsZW1lbnQuCiAqIEBwYXJhbSB7c3RyaW5nfSBvdXRwdXRJZCBFbGVtZW50IElEIG9mIHRoZSBvdXRwdXQgZGlzcGxheS4KICogQHJldHVybiB7IUl0ZXJhYmxlPCFPYmplY3Q+fSBJdGVyYWJsZSBvZiBuZXh0IHN0ZXBzLgogKi8KZnVuY3Rpb24qIHVwbG9hZEZpbGVzU3RlcChpbnB1dElkLCBvdXRwdXRJZCkgewogIGNvbnN0IGlucHV0RWxlbWVudCA9IGRvY3VtZW50LmdldEVsZW1lbnRCeUlkKGlucHV0SWQpOwogIGlucHV0RWxlbWVudC5kaXNhYmxlZCA9IGZhbHNlOwoKICBjb25zdCBvdXRwdXRFbGVtZW50ID0gZG9jdW1lbnQuZ2V0RWxlbWVudEJ5SWQob3V0cHV0SWQpOwogIG91dHB1dEVsZW1lbnQuaW5uZXJIVE1MID0gJyc7CgogIGNvbnN0IHBpY2tlZFByb21pc2UgPSBuZXcgUHJvbWlzZSgocmVzb2x2ZSkgPT4gewogICAgaW5wdXRFbGVtZW50LmFkZEV2ZW50TGlzdGVuZXIoJ2NoYW5nZScsIChlKSA9PiB7CiAgICAgIHJlc29sdmUoZS50YXJnZXQuZmlsZXMpOwogICAgfSk7CiAgfSk7CgogIGNvbnN0IGNhbmNlbCA9IGRvY3VtZW50LmNyZWF0ZUVsZW1lbnQoJ2J1dHRvbicpOwogIGlucHV0RWxlbWVudC5wYXJlbnRFbGVtZW50LmFwcGVuZENoaWxkKGNhbmNlbCk7CiAgY2FuY2VsLnRleHRDb250ZW50ID0gJ0NhbmNlbCB1cGxvYWQnOwogIGNvbnN0IGNhbmNlbFByb21pc2UgPSBuZXcgUHJvbWlzZSgocmVzb2x2ZSkgPT4gewogICAgY2FuY2VsLm9uY2xpY2sgPSAoKSA9PiB7CiAgICAgIHJlc29sdmUobnVsbCk7CiAgICB9OwogIH0pOwoKICAvLyBXYWl0IGZvciB0aGUgdXNlciB0byBwaWNrIHRoZSBmaWxlcy4KICBjb25zdCBmaWxlcyA9IHlpZWxkIHsKICAgIHByb21pc2U6IFByb21pc2UucmFjZShbcGlja2VkUHJvbWlzZSwgY2FuY2VsUHJvbWlzZV0pLAogICAgcmVzcG9uc2U6IHsKICAgICAgYWN0aW9uOiAnc3RhcnRpbmcnLAogICAgfQogIH07CgogIGNhbmNlbC5yZW1vdmUoKTsKCiAgLy8gRGlzYWJsZSB0aGUgaW5wdXQgZWxlbWVudCBzaW5jZSBmdXJ0aGVyIHBpY2tzIGFyZSBub3QgYWxsb3dlZC4KICBpbnB1dEVsZW1lbnQuZGlzYWJsZWQgPSB0cnVlOwoKICBpZiAoIWZpbGVzKSB7CiAgICByZXR1cm4gewogICAgICByZXNwb25zZTogewogICAgICAgIGFjdGlvbjogJ2NvbXBsZXRlJywKICAgICAgfQogICAgfTsKICB9CgogIGZvciAoY29uc3QgZmlsZSBvZiBmaWxlcykgewogICAgY29uc3QgbGkgPSBkb2N1bWVudC5jcmVhdGVFbGVtZW50KCdsaScpOwogICAgbGkuYXBwZW5kKHNwYW4oZmlsZS5uYW1lLCB7Zm9udFdlaWdodDogJ2JvbGQnfSkpOwogICAgbGkuYXBwZW5kKHNwYW4oCiAgICAgICAgYCgke2ZpbGUudHlwZSB8fCAnbi9hJ30pIC0gJHtmaWxlLnNpemV9IGJ5dGVzLCBgICsKICAgICAgICBgbGFzdCBtb2RpZmllZDogJHsKICAgICAgICAgICAgZmlsZS5sYXN0TW9kaWZpZWREYXRlID8gZmlsZS5sYXN0TW9kaWZpZWREYXRlLnRvTG9jYWxlRGF0ZVN0cmluZygpIDoKICAgICAgICAgICAgICAgICAgICAgICAgICAgICAgICAgICAgJ24vYSd9IC0gYCkpOwogICAgY29uc3QgcGVyY2VudCA9IHNwYW4oJzAlIGRvbmUnKTsKICAgIGxpLmFwcGVuZENoaWxkKHBlcmNlbnQpOwoKICAgIG91dHB1dEVsZW1lbnQuYXBwZW5kQ2hpbGQobGkpOwoKICAgIGNvbnN0IGZpbGVEYXRhUHJvbWlzZSA9IG5ldyBQcm9taXNlKChyZXNvbHZlKSA9PiB7CiAgICAgIGNvbnN0IHJlYWRlciA9IG5ldyBGaWxlUmVhZGVyKCk7CiAgICAgIHJlYWRlci5vbmxvYWQgPSAoZSkgPT4gewogICAgICAgIHJlc29sdmUoZS50YXJnZXQucmVzdWx0KTsKICAgICAgfTsKICAgICAgcmVhZGVyLnJlYWRBc0FycmF5QnVmZmVyKGZpbGUpOwogICAgfSk7CiAgICAvLyBXYWl0IGZvciB0aGUgZGF0YSB0byBiZSByZWFkeS4KICAgIGxldCBmaWxlRGF0YSA9IHlpZWxkIHsKICAgICAgcHJvbWlzZTogZmlsZURhdGFQcm9taXNlLAogICAgICByZXNwb25zZTogewogICAgICAgIGFjdGlvbjogJ2NvbnRpbnVlJywKICAgICAgfQogICAgfTsKCiAgICAvLyBVc2UgYSBjaHVua2VkIHNlbmRpbmcgdG8gYXZvaWQgbWVzc2FnZSBzaXplIGxpbWl0cy4gU2VlIGIvNjIxMTU2NjAuCiAgICBsZXQgcG9zaXRpb24gPSAwOwogICAgd2hpbGUgKHBvc2l0aW9uIDwgZmlsZURhdGEuYnl0ZUxlbmd0aCkgewogICAgICBjb25zdCBsZW5ndGggPSBNYXRoLm1pbihmaWxlRGF0YS5ieXRlTGVuZ3RoIC0gcG9zaXRpb24sIE1BWF9QQVlMT0FEX1NJWkUpOwogICAgICBjb25zdCBjaHVuayA9IG5ldyBVaW50OEFycmF5KGZpbGVEYXRhLCBwb3NpdGlvbiwgbGVuZ3RoKTsKICAgICAgcG9zaXRpb24gKz0gbGVuZ3RoOwoKICAgICAgY29uc3QgYmFzZTY0ID0gYnRvYShTdHJpbmcuZnJvbUNoYXJDb2RlLmFwcGx5KG51bGwsIGNodW5rKSk7CiAgICAgIHlpZWxkIHsKICAgICAgICByZXNwb25zZTogewogICAgICAgICAgYWN0aW9uOiAnYXBwZW5kJywKICAgICAgICAgIGZpbGU6IGZpbGUubmFtZSwKICAgICAgICAgIGRhdGE6IGJhc2U2NCwKICAgICAgICB9LAogICAgICB9OwogICAgICBwZXJjZW50LnRleHRDb250ZW50ID0KICAgICAgICAgIGAke01hdGgucm91bmQoKHBvc2l0aW9uIC8gZmlsZURhdGEuYnl0ZUxlbmd0aCkgKiAxMDApfSUgZG9uZWA7CiAgICB9CiAgfQoKICAvLyBBbGwgZG9uZS4KICB5aWVsZCB7CiAgICByZXNwb25zZTogewogICAgICBhY3Rpb246ICdjb21wbGV0ZScsCiAgICB9CiAgfTsKfQoKc2NvcGUuZ29vZ2xlID0gc2NvcGUuZ29vZ2xlIHx8IHt9OwpzY29wZS5nb29nbGUuY29sYWIgPSBzY29wZS5nb29nbGUuY29sYWIgfHwge307CnNjb3BlLmdvb2dsZS5jb2xhYi5fZmlsZXMgPSB7CiAgX3VwbG9hZEZpbGVzLAogIF91cGxvYWRGaWxlc0NvbnRpbnVlLAp9Owp9KShzZWxmKTsK",
              "ok": true,
              "headers": [
                [
                  "content-type",
                  "application/javascript"
                ]
              ],
              "status": 200,
              "status_text": "OK"
            }
          },
          "base_uri": "https://localhost:8080/",
          "height": 73
        },
        "id": "UyESgvz3R0Wy",
        "outputId": "120e4d8b-f9ca-4408-c87e-d86fd5f71cb7"
      },
      "source": [
        "# Uploading the file for use in Google Colab (different than in Jupyter)\n",
        "uploaded = files.upload()"
      ],
      "execution_count": 2,
      "outputs": [
        {
          "output_type": "display_data",
          "data": {
            "text/html": [
              "\n",
              "     <input type=\"file\" id=\"files-646796d3-e676-43e3-a84d-cdaa126b0bc7\" name=\"files[]\" multiple disabled\n",
              "        style=\"border:none\" />\n",
              "     <output id=\"result-646796d3-e676-43e3-a84d-cdaa126b0bc7\">\n",
              "      Upload widget is only available when the cell has been executed in the\n",
              "      current browser session. Please rerun this cell to enable.\n",
              "      </output>\n",
              "      <script src=\"/nbextensions/google.colab/files.js\"></script> "
            ],
            "text/plain": [
              "<IPython.core.display.HTML object>"
            ]
          },
          "metadata": {
            "tags": []
          }
        },
        {
          "output_type": "stream",
          "text": [
            "Saving monojet_Zp2000.0_DM_50.0_chan3.csv to monojet_Zp2000.0_DM_50.0_chan3 (2).csv\n"
          ],
          "name": "stdout"
        }
      ]
    },
    {
      "cell_type": "markdown",
      "metadata": {
        "id": "UzuVdUueQ8E1"
      },
      "source": [
        "Before we can read the dataset into a pandas dataframe, we must determine the maximum number of columns of any row in the dataset. To do this, we create a basic function called get_max_columns(file) to get the desired quantity. \n",
        "\n"
      ]
    },
    {
      "cell_type": "code",
      "metadata": {
        "id": "FN4mTiI2FieL"
      },
      "source": [
        "# Define a function to find maximum number of columns to in order to properly read file\n",
        "def get_max_columns(url_to_file):\n",
        "    f = open(url_to_file, \"r\")\n",
        "    n = 0\n",
        "    for line in f.readlines():\n",
        "        items = len(re.split('[;,]', line))\n",
        "        if items > n:\n",
        "            n = items\n",
        "    return n\n",
        "\n",
        "# Create a list of numerical column labels using our get_max_columns function\n",
        "cols = range(0, get_max_columns('monojet_Zp2000.0_DM_50.0_chan3.csv'))"
      ],
      "execution_count": 3,
      "outputs": []
    },
    {
      "cell_type": "markdown",
      "metadata": {
        "id": "52jzkphnS1hx"
      },
      "source": [
        "We then read the dataset into a pandas dataframe to get a sense of what we're working with."
      ]
    },
    {
      "cell_type": "code",
      "metadata": {
        "colab": {
          "base_uri": "https://localhost:8080/"
        },
        "id": "K_IhTig0R7lf",
        "outputId": "b0463fc4-bb90-45eb-8dba-48ebd085f5d3"
      },
      "source": [
        "# If using Jupyter: \n",
        "# data_path = '/home/atlas/data/Desktop/GSoC2021_ATLAS_Evaluation-Exercise/monojet_Zp2000.0_DM_50.0_chan3.csv'\n",
        "# orig_data = pd.read_csv(data_path, sep=\",|;\", names=cols, header=None)\n",
        "\n",
        "# Read the dataset into a pandas dataframe\n",
        "orig_data = pd.read_csv(io.BytesIO(uploaded['monojet_Zp2000.0_DM_50.0_chan3.csv']), sep=\",|;\", names=cols, header=None)\n",
        "\n",
        "# Drop last column due to pandas reading an extra space\n",
        "orig_data = orig_data.drop([65], axis=1)"
      ],
      "execution_count": 4,
      "outputs": [
        {
          "output_type": "stream",
          "text": [
            "/usr/local/lib/python3.7/dist-packages/ipykernel_launcher.py:6: ParserWarning: Falling back to the 'python' engine because the 'c' engine does not support regex separators (separators > 1 char and different from '\\s+' are interpreted as regex); you can avoid this warning by specifying engine='python'.\n",
            "  \n"
          ],
          "name": "stderr"
        }
      ]
    },
    {
      "cell_type": "markdown",
      "metadata": {
        "id": "6AQ12fnrTO4i"
      },
      "source": [
        "# **Step 2: Extracting the Jet Particles**"
      ]
    },
    {
      "cell_type": "markdown",
      "metadata": {
        "id": "x9wDbm6OTUx4"
      },
      "source": [
        "We only want the data for particles labeled 'j' in the original dataset, so we create a new dataframe consisting of only those particles. \n",
        "\n",
        "First, the orig_data is transformed into dataj, in which only the values of j are retained. The rest are NaNs.\n",
        "\n",
        "Then, we create an array of the dataindices of the locations of all of the j values in dataj. \n",
        "\n",
        "Next, we clone each element of the array 4 times (E, pt, eta, phi) and concatenated the resulting array with one of the same length to add 1, 2, 3, and 4 respectively to each element, thus returning the coordinate locations of the data for each jet particle. We then convert this resulting array into a dataframe.\n",
        "\n",
        "Next, we use the look_up function to add a column to this dataframe that contains the values in orig_data at each coordinate pair, thus extracting the data for each jet. These values are then grouped into 4s and converted into a final jets dataframe.\n"
      ]
    },
    {
      "cell_type": "code",
      "metadata": {
        "id": "cRKbMh5YFieM"
      },
      "source": [
        "# Creating a dataframe that keeps only the 'j's\n",
        "dataj = orig_data.where(orig_data == 'j')\n",
        "\n",
        "# Determining the indices of all 'j's\n",
        "dataindices = np.argwhere(np.array(dataj.notnull().values))\n",
        "type(dataindices)\n",
        "\n",
        "# Creating a dataframe, df, of all of the indices of the E, pt, eta, and phi values of 'j' particles\n",
        "test = np.repeat(dataindices, 4, axis=0)\n",
        "a = np.array([0, 0, 0, 0] * 22661)\n",
        "b = np.array([1, 2, 3, 4] * 22661)\n",
        "add = np.concatenate([a[:,None],b[:,None]], axis=1)\n",
        "sum = np.add(test, add)\n",
        "df = pd.DataFrame(sum, columns=['a','b'])\n",
        "\n",
        "# Using lookup to add a column to df with the corresponding value from orig_data at that position\n",
        "df['looked_up'] = orig_data.lookup(df.a, df.b)\n",
        "\n",
        "# Define a grouper function to be used to group the 4 data points for each particle in df.looked_up\n",
        "def grouper(iterable, n, fillvalue=None):\n",
        "    # grouper('ABCDEFG', 3, 'x') --> ABC DEF Gxx\"\n",
        "    args = [iter(iterable)] * n\n",
        "    return zip_longest(*args, fillvalue=fillvalue)\n",
        "\n",
        "# Group df.looked_up and convert into jets dataframe\n",
        "grouped = np.array(list(grouper(df.looked_up, 4)))\n",
        "jets = pd.DataFrame(grouped, columns = ['E', 'pt', 'eta', 'phi'])"
      ],
      "execution_count": 5,
      "outputs": []
    },
    {
      "cell_type": "markdown",
      "metadata": {
        "id": "rWmpsyNGWJKj"
      },
      "source": [
        "We define a custom normalization function for the data according to the custom unnormalization function given. "
      ]
    },
    {
      "cell_type": "code",
      "metadata": {
        "id": "eEfESBqBCZVC"
      },
      "source": [
        "# Define a custom normalization function\n",
        "def custom_norm(df):\n",
        "    df['E'] = np.log10(df['E'])\n",
        "    df['pt'] = np.log10(df['pt'])\n",
        "    df['eta'] = df['eta'] / 5\n",
        "    df['phi'] = df['phi'] / 3    \n",
        "    return df\n",
        "\n",
        "# Normalize the jets dataframe\n",
        "jets_norm = custom_norm(jets)"
      ],
      "execution_count": 6,
      "outputs": []
    },
    {
      "cell_type": "markdown",
      "metadata": {
        "id": "SsgzyTJZWhSG"
      },
      "source": [
        "We then view our data and randomly split into training and validation sets (80/20)."
      ]
    },
    {
      "cell_type": "code",
      "metadata": {
        "colab": {
          "base_uri": "https://localhost:8080/"
        },
        "id": "-t7U0Fk8FieM",
        "outputId": "9af8d3e1-0960-4f00-818f-e7626f815b40"
      },
      "source": [
        "# Check out jets dataframe\n",
        "print('Jets:')\n",
        "print(jets_norm.head())\n",
        "\n",
        "print('\\n')\n",
        "\n",
        "print('The number of jets in dataset:', len(jets_norm))\n",
        "print('\\n')\n",
        "\n",
        "# Randomly split the data into training and test (80/20)\n",
        "rng = RandomState()\n",
        "train = jets_norm.sample(frac=0.8, random_state=rng)\n",
        "test = jets_norm.loc[~jets_norm.index.isin(train.index)]\n",
        "\n",
        "# Check to verify\n",
        "print('Training sample:')\n",
        "print(train.head())\n",
        "\n",
        "print('\\n')\n",
        "\n",
        "print('Testing sample:')\n",
        "print(test.head())\n",
        "\n",
        "print('\\n')\n",
        "\n",
        "print('The number of entries in the training data:', len(train))\n",
        "print('The number of entries in the validation data:', len(test))"
      ],
      "execution_count": 7,
      "outputs": [
        {
          "output_type": "stream",
          "text": [
            "Jets:\n",
            "          E        pt       eta       phi\n",
            "0  5.412833  5.386811  0.065792  0.750047\n",
            "1  5.716080  5.035790 -0.449460 -0.618930\n",
            "2  5.583226  4.946480  0.429032 -0.652117\n",
            "3  4.596681  4.548575  0.094092 -0.388150\n",
            "4  5.353012  4.429400 -0.563216 -0.753127\n",
            "\n",
            "\n",
            "The number of jets in dataset: 22661\n",
            "\n",
            "\n",
            "Training sample:\n",
            "              E        pt       eta       phi\n",
            "16878  5.632153  5.605191 -0.043774 -0.343757\n",
            "6518   5.317206  4.629057 -0.452702 -0.522847\n",
            "15301  5.613404  5.590645 -0.062191 -0.262348\n",
            "8546   4.424584  4.403277 -0.063163 -0.187890\n",
            "5012   5.649305  5.135924  0.369892  0.215650\n",
            "\n",
            "\n",
            "Testing sample:\n",
            "           E        pt       eta       phi\n",
            "3   4.596681  4.548575  0.094092 -0.388150\n",
            "11  4.450514  4.396663 -0.090853  0.172225\n",
            "12  5.971604  5.789742  0.194677 -0.521973\n",
            "15  5.522170  5.101307  0.323996 -0.618413\n",
            "22  4.953363  4.598622 -0.289490 -0.426307\n",
            "\n",
            "\n",
            "The number of entries in the training data: 18129\n",
            "The number of entries in the validation data: 4532\n"
          ],
          "name": "stdout"
        }
      ]
    },
    {
      "cell_type": "markdown",
      "metadata": {
        "id": "q08bo5C7W32b"
      },
      "source": [
        "Finally, we plot our training data to get a sense of the distributions for each component."
      ]
    },
    {
      "cell_type": "code",
      "metadata": {
        "colab": {
          "base_uri": "https://localhost:8080/",
          "height": 1000
        },
        "id": "MNTEbcWdFieN",
        "outputId": "95302f5d-0609-451c-ee34-d675c8fc558e"
      },
      "source": [
        "# Plot the data\n",
        "%matplotlib inline\n",
        "import matplotlib.pyplot as plt\n",
        "\n",
        "unit_list = ['[log(GeV)]', '[log(GeV)]', '[rad/3]', '[rad/3]']\n",
        "variable_list = [r'$E$', r'$p_T$', r'$\\eta$', r'$\\phi$']\n",
        "\n",
        "branches=[\"E\", \"pt\",\"eta\",\"phi\"]\n",
        "\n",
        "n_bins = 100\n",
        "\n",
        "for kk in range(0,4):\n",
        "    n_hist_data, bin_edges, _ = plt.hist(train[branches[kk]], color='gray', label='Input', alpha=1, bins=n_bins)\n",
        "    plt.xlabel(xlabel=variable_list[kk] + ' ' + unit_list[kk])\n",
        "    plt.ylabel('# of events')\n",
        "    #plt.savefig(\"fourmomentum_\"+branches[kk],dpi=300)\n",
        "    plt.show()"
      ],
      "execution_count": 8,
      "outputs": [
        {
          "output_type": "display_data",
          "data": {
            "image/png": "[encoded data removed]",
            "text/plain": [
              "<Figure size 432x288 with 1 Axes>"
            ]
          },
          "metadata": {
            "tags": [],
            "needs_background": "light"
          }
        },
        {
          "output_type": "display_data",
          "data": {
            "image/png": "[encoded data removed]",
            "text/plain": [
              "<Figure size 432x288 with 1 Axes>"
            ]
          },
          "metadata": {
            "tags": [],
            "needs_background": "light"
          }
        },
        {
          "output_type": "display_data",
          "data": {
            "image/png": "[encoded data removed]",
            "text/plain": [
              "<Figure size 432x288 with 1 Axes>"
            ]
          },
          "metadata": {
            "tags": [],
            "needs_background": "light"
          }
        },
        {
          "output_type": "display_data",
          "data": {
            "image/png": "[encoded data removed]",
            "text/plain": [
              "<Figure size 432x288 with 1 Axes>"
            ]
          },
          "metadata": {
            "tags": [],
            "needs_background": "light"
          }
        }
      ]
    },
    {
      "cell_type": "markdown",
      "metadata": {
        "id": "FqHEA4ULXB7Y"
      },
      "source": [
        "# **Step 3: Setting Up the Network**"
      ]
    },
    {
      "cell_type": "markdown",
      "metadata": {
        "id": "3Tj0FPDFXJ0B"
      },
      "source": [
        "First, we import all necessary classes and packages. We also add the training and validation datasets as TensorDataset objects to Pytorch."
      ]
    },
    {
      "cell_type": "code",
      "metadata": {
        "id": "LtkKrLEYFieN"
      },
      "source": [
        "# Preparing the data\n",
        "import torch\n",
        "import torch.nn as nn\n",
        "import torch.optim as optim\n",
        "import torch.utils.data\n",
        "from torch.autograd import Variable\n",
        "import fastai\n",
        "\n",
        "from torch.utils.data import TensorDataset\n",
        "from torch.utils.data import DataLoader\n",
        "\n",
        "from fastai import learner\n",
        "from fastai.data import core\n",
        "\n",
        "train_x = train\n",
        "test_x = test\n",
        "train_y = train_x  # y = x since we are building an autoencoder\n",
        "test_y = test_x\n",
        "\n",
        "# Constructs a tensor object of the data and wraps them in a TensorDataset object.\n",
        "train_ds = TensorDataset(torch.tensor(train_x.values, dtype=torch.float), torch.tensor(train_y.values, dtype=torch.float))\n",
        "valid_ds = TensorDataset(torch.tensor(test_x.values, dtype=torch.float), torch.tensor(test_y.values, dtype=torch.float))"
      ],
      "execution_count": 9,
      "outputs": []
    },
    {
      "cell_type": "markdown",
      "metadata": {
        "id": "8k6O2kAKXjfh"
      },
      "source": [
        "We use the given batchsize and load the TensorDatasets into one DataLoaders object."
      ]
    },
    {
      "cell_type": "code",
      "metadata": {
        "id": "2h9AkLkYFieO"
      },
      "source": [
        "bs = 256\n",
        "\n",
        "# Converts the TensorDataset into a DataLoader object and combines into one DataLoaders object (a basic wrapper\n",
        "# around several DataLoader objects). \n",
        "train_dl = DataLoader(train_ds, batch_size=bs, shuffle=True)\n",
        "valid_dl = DataLoader(valid_ds, batch_size=bs * 2)\n",
        "dls = core.DataLoaders(train_dl, valid_dl)"
      ],
      "execution_count": 10,
      "outputs": []
    },
    {
      "cell_type": "markdown",
      "metadata": {
        "id": "Tr_TtIyGXysD"
      },
      "source": [
        "Next, we construct the framework of the network using the previously given conditions."
      ]
    },
    {
      "cell_type": "code",
      "metadata": {
        "colab": {
          "base_uri": "https://localhost:8080/"
        },
        "id": "abbd252zFieO",
        "outputId": "e0c21948-a228-4555-e22a-ba6a8f70e565"
      },
      "source": [
        "# Prepping the network\n",
        "class AE_3D_200_LeakyReLU(nn.Module):\n",
        "    def __init__(self, n_features=4):\n",
        "        super(AE_3D_200_LeakyReLU, self).__init__()\n",
        "        self.en1 = nn.Linear(n_features, 200)\n",
        "        self.en2 = nn.Linear(200, 200)\n",
        "        self.en3 = nn.Linear(200, 20)\n",
        "        self.en4 = nn.Linear(20, 3)\n",
        "        self.de1 = nn.Linear(3, 20)\n",
        "        self.de2 = nn.Linear(20, 200)\n",
        "        self.de3 = nn.Linear(200, 200)\n",
        "        self.de4 = nn.Linear(200, n_features)\n",
        "        self.tanh = nn.Tanh()\n",
        "\n",
        "    def encode(self, x):\n",
        "        return self.en4(self.tanh(self.en3(self.tanh(self.en2(self.tanh(self.en1(x)))))))\n",
        "\n",
        "    def decode(self, x):\n",
        "        return self.de4(self.tanh(self.de3(self.tanh(self.de2(self.tanh(self.de1(self.tanh(x))))))))\n",
        "\n",
        "    def forward(self, x):\n",
        "        z = self.encode(x)\n",
        "        return self.decode(z)\n",
        "\n",
        "    def describe(self):\n",
        "        return 'in-200-200-20-3-20-200-200-out'\n",
        "\n",
        "#model = AE_3D_200_LeakyReLU().double()\n",
        "model = AE_3D_200_LeakyReLU()\n",
        "model.to('cpu')"
      ],
      "execution_count": 11,
      "outputs": [
        {
          "output_type": "execute_result",
          "data": {
            "text/plain": [
              "AE_3D_200_LeakyReLU(\n",
              "  (en1): Linear(in_features=4, out_features=200, bias=True)\n",
              "  (en2): Linear(in_features=200, out_features=200, bias=True)\n",
              "  (en3): Linear(in_features=200, out_features=20, bias=True)\n",
              "  (en4): Linear(in_features=20, out_features=3, bias=True)\n",
              "  (de1): Linear(in_features=3, out_features=20, bias=True)\n",
              "  (de2): Linear(in_features=20, out_features=200, bias=True)\n",
              "  (de3): Linear(in_features=200, out_features=200, bias=True)\n",
              "  (de4): Linear(in_features=200, out_features=4, bias=True)\n",
              "  (tanh): Tanh()\n",
              ")"
            ]
          },
          "metadata": {
            "tags": []
          },
          "execution_count": 11
        }
      ]
    },
    {
      "cell_type": "markdown",
      "metadata": {
        "id": "XXmKUIOTX_j4"
      },
      "source": [
        "We pick MSE as the loss function because it measures the desired (input-output)/input quantity we are looking to minimize when constructing an autoencoder."
      ]
    },
    {
      "cell_type": "code",
      "metadata": {
        "id": "NBMEpB6mFieP"
      },
      "source": [
        "# Loss\n",
        "from fastai.metrics import mse\n",
        "\n",
        "loss_func = nn.MSELoss()\n",
        "\n",
        "#bn_wd = False  # Don't use weight decay for batchnorm layers\n",
        "#true_wd = True  # weight decay will be used for all optimizers\n",
        "wd = 1e-6\n",
        "\n",
        "recorder = learner.Recorder()\n",
        "learn = learner.Learner(dls, model=model, wd=wd, loss_func=loss_func, cbs=recorder)\n",
        "#learn = basic_train.Learner(data=dls, model=model, loss_func=loss_func, wd=wd, callback_fns=ActivationStats, bn_wd=bn_wd, true_wd=true_wd)"
      ],
      "execution_count": 12,
      "outputs": []
    },
    {
      "cell_type": "markdown",
      "metadata": {
        "id": "amCUiufCYLIk"
      },
      "source": [
        "We determine the optimal learning rate by plotting loss vs. learning rate for our model. I chose to use lr_steep, as both values were of similar orders of magnitude, and I have found this to be more accurate in previous models."
      ]
    },
    {
      "cell_type": "code",
      "metadata": {
        "colab": {
          "base_uri": "https://localhost:8080/",
          "height": 318
        },
        "id": "T-vtb9qlFieP",
        "outputId": "fde57461-c3d0-4c5d-e033-7594068ec3e4"
      },
      "source": [
        "from fastai.callback import schedule\n",
        "\n",
        "lr_min, lr_steep = learn.lr_find()\n",
        "\n",
        "print('Learning rate with the minimum loss:', lr_min)\n",
        "print('Learning rate with the steepest gradient:', lr_steep)"
      ],
      "execution_count": 13,
      "outputs": [
        {
          "output_type": "stream",
          "text": [
            "Learning rate with the minimum loss: 0.014454397559165954\n",
            "Learning rate with the steepest gradient: 0.0020892962347716093\n"
          ],
          "name": "stdout"
        },
        {
          "output_type": "display_data",
          "data": {
            "image/png": "[encoded data removed]",
            "text/plain": [
              "<Figure size 432x288 with 1 Axes>"
            ]
          },
          "metadata": {
            "tags": [],
            "needs_background": "light"
          }
        }
      ]
    },
    {
      "cell_type": "markdown",
      "metadata": {
        "id": "7QN7eoYYYa32"
      },
      "source": [
        "# **Step 4: Training the Network**"
      ]
    },
    {
      "cell_type": "markdown",
      "metadata": {
        "id": "AaaBsTciYfOo"
      },
      "source": [
        "We now use fit_one_cycle to train the network. I kept n_epochs equal to 100 as the error seemed to relatively plateau around this point."
      ]
    },
    {
      "cell_type": "code",
      "metadata": {
        "colab": {
          "base_uri": "https://localhost:8080/"
        },
        "id": "ciwNtysjFieQ",
        "outputId": "d8cd2dc0-17f6-4ee4-a841-b8115318b7e0"
      },
      "source": [
        "import time\n",
        "\n",
        "start = time.perf_counter() # Starts timer\n",
        "learn.fit_one_cycle(n_epoch=100, lr_max=lr_steep)\n",
        "end = time.perf_counter() # Ends timer\n",
        "delta_t = end - start\n",
        "print('Training took', delta_t, 'seconds')"
      ],
      "execution_count": 14,
      "outputs": [
        {
          "output_type": "stream",
          "text": [
            "[0, 9.218608856201172, 6.0714826583862305, '00:00']\n",
            "[0, 9.218608856201172, 6.0714826583862305, '00:00']\n",
            "[1, 3.4096412658691406, 0.41241633892059326, '00:00']\n",
            "[1, 3.4096412658691406, 0.41241633892059326, '00:00']\n",
            "[2, 0.9693028926849365, 0.23116251826286316, '00:00']\n",
            "[2, 0.9693028926849365, 0.23116251826286316, '00:00']\n",
            "[3, 0.4027351140975952, 0.22599934041500092, '00:00']\n",
            "[3, 0.4027351140975952, 0.22599934041500092, '00:00']\n",
            "[4, 0.26908034086227417, 0.22574569284915924, '00:00']\n",
            "[4, 0.26908034086227417, 0.22574569284915924, '00:00']\n",
            "[5, 0.23719719052314758, 0.22563137114048004, '00:00']\n",
            "[5, 0.23719719052314758, 0.22563137114048004, '00:00']\n",
            "[6, 0.22225543856620789, 0.19577617943286896, '00:00']\n",
            "[6, 0.22225543856620789, 0.19577617943286896, '00:00']\n",
            "[7, 0.13679508864879608, 0.04770229384303093, '00:00']\n",
            "[7, 0.13679508864879608, 0.04770229384303093, '00:00']\n",
            "[8, 0.06112151965498924, 0.03516151383519173, '00:00']\n",
            "[8, 0.06112151965498924, 0.03516151383519173, '00:00']\n",
            "[9, 0.03841473534703255, 0.025365279987454414, '00:00']\n",
            "[9, 0.03841473534703255, 0.025365279987454414, '00:00']\n",
            "[10, 0.026484180241823196, 0.02168796770274639, '00:00']\n",
            "[10, 0.026484180241823196, 0.02168796770274639, '00:00']\n",
            "[11, 0.020469453185796738, 0.016883177682757378, '00:00']\n",
            "[11, 0.020469453185796738, 0.016883177682757378, '00:00']\n",
            "[12, 0.017101090401411057, 0.01322703342884779, '00:00']\n",
            "[12, 0.017101090401411057, 0.01322703342884779, '00:00']\n",
            "[13, 0.013894619420170784, 0.007248948328197002, '00:00']\n",
            "[13, 0.013894619420170784, 0.007248948328197002, '00:00']\n",
            "[14, 0.007198119070380926, 0.0023410620633512735, '00:00']\n",
            "[14, 0.007198119070380926, 0.0023410620633512735, '00:00']\n",
            "[15, 0.004471292719244957, 0.005135078448802233, '00:00']\n",
            "[15, 0.004471292719244957, 0.005135078448802233, '00:00']\n",
            "[16, 0.0038890026044100523, 0.0006234591128304601, '00:00']\n",
            "[16, 0.0038890026044100523, 0.0006234591128304601, '00:00']\n",
            "[17, 0.0059538125060498714, 0.0035375114530324936, '00:00']\n",
            "[17, 0.0059538125060498714, 0.0035375114530324936, '00:00']\n",
            "[18, 0.006057018879801035, 0.003393914783373475, '00:00']\n",
            "[18, 0.006057018879801035, 0.003393914783373475, '00:00']\n",
            "[19, 0.004488216247409582, 0.003228078130632639, '00:00']\n",
            "[19, 0.004488216247409582, 0.003228078130632639, '00:00']\n",
            "[20, 0.004279708489775658, 0.0005502731655724347, '00:00']\n",
            "[20, 0.004279708489775658, 0.0005502731655724347, '00:00']\n",
            "[21, 0.005632881075143814, 0.002485215663909912, '00:00']\n",
            "[21, 0.005632881075143814, 0.002485215663909912, '00:00']\n",
            "[22, 0.005309707950800657, 0.0059853773564100266, '00:00']\n",
            "[22, 0.005309707950800657, 0.0059853773564100266, '00:00']\n",
            "[23, 0.006023451220244169, 0.0015892351511865854, '00:00']\n",
            "[23, 0.006023451220244169, 0.0015892351511865854, '00:00']\n",
            "[24, 0.005074072163552046, 0.0012136161094531417, '00:00']\n",
            "[24, 0.005074072163552046, 0.0012136161094531417, '00:00']\n",
            "[25, 0.0045762392692267895, 0.0017374269664287567, '00:00']\n",
            "[25, 0.0045762392692267895, 0.0017374269664287567, '00:00']\n",
            "[26, 0.004339281003922224, 0.0031589025165885687, '00:00']\n",
            "[26, 0.004339281003922224, 0.0031589025165885687, '00:00']\n",
            "[27, 0.0032698127906769514, 0.0018720650114119053, '00:00']\n",
            "[27, 0.0032698127906769514, 0.0018720650114119053, '00:00']\n",
            "[28, 0.003033767221495509, 0.0013459684560075402, '00:00']\n",
            "[28, 0.003033767221495509, 0.0013459684560075402, '00:00']\n",
            "[29, 0.003462123917415738, 0.01267657894641161, '00:00']\n",
            "[29, 0.003462123917415738, 0.01267657894641161, '00:00']\n",
            "[30, 0.003502349369227886, 0.011090749874711037, '00:00']\n",
            "[30, 0.003502349369227886, 0.011090749874711037, '00:00']\n",
            "[31, 0.00282471626996994, 0.000593666743952781, '00:00']\n",
            "[31, 0.00282471626996994, 0.000593666743952781, '00:00']\n",
            "[32, 0.0028524501249194145, 0.003911099396646023, '00:00']\n",
            "[32, 0.0028524501249194145, 0.003911099396646023, '00:00']\n",
            "[33, 0.0026498751249164343, 0.0006773462519049644, '00:00']\n",
            "[33, 0.0026498751249164343, 0.0006773462519049644, '00:00']\n",
            "[34, 0.002006686059758067, 0.0005552449729293585, '00:00']\n",
            "[34, 0.002006686059758067, 0.0005552449729293585, '00:00']\n",
            "[35, 0.00255252281203866, 0.004135908093303442, '00:00']\n",
            "[35, 0.00255252281203866, 0.004135908093303442, '00:00']\n",
            "[36, 0.002173079876229167, 0.000468035985250026, '00:00']\n",
            "[36, 0.002173079876229167, 0.000468035985250026, '00:00']\n",
            "[37, 0.002005595713853836, 0.00425290409475565, '00:00']\n",
            "[37, 0.002005595713853836, 0.00425290409475565, '00:00']\n",
            "[38, 0.002094065537676215, 0.0028611996676772833, '00:00']\n",
            "[38, 0.002094065537676215, 0.0028611996676772833, '00:00']\n",
            "[39, 0.0015519484877586365, 0.002143953461199999, '00:00']\n",
            "[39, 0.0015519484877586365, 0.002143953461199999, '00:00']\n",
            "[40, 0.001637692330405116, 0.0005119101260788739, '00:00']\n",
            "[40, 0.001637692330405116, 0.0005119101260788739, '00:00']\n",
            "[41, 0.0013183559058234096, 0.004215225111693144, '00:00']\n",
            "[41, 0.0013183559058234096, 0.004215225111693144, '00:00']\n",
            "[42, 0.00175544957164675, 0.0014102343702688813, '00:00']\n",
            "[42, 0.00175544957164675, 0.0014102343702688813, '00:00']\n",
            "[43, 0.0014436377678066492, 0.0004308275238145143, '00:00']\n",
            "[43, 0.0014436377678066492, 0.0004308275238145143, '00:00']\n",
            "[44, 0.0013347163330763578, 0.00028850906528532505, '00:00']\n",
            "[44, 0.0013347163330763578, 0.00028850906528532505, '00:00']\n",
            "[45, 0.0011403488460928202, 0.0005021749529987574, '00:00']\n",
            "[45, 0.0011403488460928202, 0.0005021749529987574, '00:00']\n",
            "[46, 0.001135080005042255, 0.0006848141201771796, '00:00']\n",
            "[46, 0.001135080005042255, 0.0006848141201771796, '00:00']\n",
            "[47, 0.0012330157915130258, 0.001044612959958613, '00:00']\n",
            "[47, 0.0012330157915130258, 0.001044612959958613, '00:00']\n",
            "[48, 0.0008601059671491385, 0.0002613254473544657, '00:00']\n",
            "[48, 0.0008601059671491385, 0.0002613254473544657, '00:00']\n",
            "[49, 0.0007367146317847073, 0.0005547493346966803, '00:00']\n",
            "[49, 0.0007367146317847073, 0.0005547493346966803, '00:00']\n",
            "[50, 0.0006103970808908343, 0.0009195352322421968, '00:00']\n",
            "[50, 0.0006103970808908343, 0.0009195352322421968, '00:00']\n",
            "[51, 0.0007180475513450801, 0.0005620173178613186, '00:00']\n",
            "[51, 0.0007180475513450801, 0.0005620173178613186, '00:00']\n",
            "[52, 0.00048758575576357543, 0.0007197513477876782, '00:00']\n",
            "[52, 0.00048758575576357543, 0.0007197513477876782, '00:00']\n",
            "[53, 0.0005226373323239386, 0.00014253545668907464, '00:00']\n",
            "[53, 0.0005226373323239386, 0.00014253545668907464, '00:00']\n",
            "[54, 0.0004756032722070813, 0.00025769133935682476, '00:00']\n",
            "[54, 0.0004756032722070813, 0.00025769133935682476, '00:00']\n",
            "[55, 0.00041647686157375574, 0.00014294184802565724, '00:00']\n",
            "[55, 0.00041647686157375574, 0.00014294184802565724, '00:00']\n",
            "[56, 0.00041587272426113486, 8.818032074486837e-05, '00:00']\n",
            "[56, 0.00041587272426113486, 8.818032074486837e-05, '00:00']\n",
            "[57, 0.00037835616967640817, 9.601147030480206e-05, '00:00']\n",
            "[57, 0.00037835616967640817, 9.601147030480206e-05, '00:00']\n",
            "[58, 0.0003106628719251603, 0.0001512625749455765, '00:00']\n",
            "[58, 0.0003106628719251603, 0.0001512625749455765, '00:00']\n",
            "[59, 0.00035010185092687607, 0.0008065979345701635, '00:00']\n",
            "[59, 0.00035010185092687607, 0.0008065979345701635, '00:00']\n",
            "[60, 0.0003014305839315057, 0.00041273358510807157, '00:00']\n",
            "[60, 0.0003014305839315057, 0.00041273358510807157, '00:00']\n",
            "[61, 0.00039095632382668555, 7.24314377293922e-05, '00:00']\n",
            "[61, 0.00039095632382668555, 7.24314377293922e-05, '00:00']\n",
            "[62, 0.00016643881099298596, 0.00012664601672440767, '00:00']\n",
            "[62, 0.00016643881099298596, 0.00012664601672440767, '00:00']\n",
            "[63, 0.0001599420647835359, 0.0001507229171693325, '00:00']\n",
            "[63, 0.0001599420647835359, 0.0001507229171693325, '00:00']\n",
            "[64, 0.00019601377425715327, 0.00014137774996925145, '00:00']\n",
            "[64, 0.00019601377425715327, 0.00014137774996925145, '00:00']\n",
            "[65, 0.00017450901214033365, 0.00048153699026443064, '00:00']\n",
            "[65, 0.00017450901214033365, 0.00048153699026443064, '00:00']\n",
            "[66, 0.00010627720621414483, 6.016310362610966e-05, '00:00']\n",
            "[66, 0.00010627720621414483, 6.016310362610966e-05, '00:00']\n",
            "[67, 0.00010702146391849965, 4.897258986602537e-05, '00:00']\n",
            "[67, 0.00010702146391849965, 4.897258986602537e-05, '00:00']\n",
            "[68, 9.655871690483764e-05, 4.9602542276261374e-05, '00:00']\n",
            "[68, 9.655871690483764e-05, 4.9602542276261374e-05, '00:00']\n",
            "[69, 7.10554450051859e-05, 9.987806697608903e-05, '00:00']\n",
            "[69, 7.10554450051859e-05, 9.987806697608903e-05, '00:00']\n",
            "[70, 6.909836520208046e-05, 5.65825030207634e-05, '00:00']\n",
            "[70, 6.909836520208046e-05, 5.65825030207634e-05, '00:00']\n",
            "[71, 7.801268657203764e-05, 7.97462635091506e-05, '00:00']\n",
            "[71, 7.801268657203764e-05, 7.97462635091506e-05, '00:00']\n",
            "[72, 5.357834743335843e-05, 5.845162013429217e-05, '00:00']\n",
            "[72, 5.357834743335843e-05, 5.845162013429217e-05, '00:00']\n",
            "[73, 4.474331944948062e-05, 3.5338332963874564e-05, '00:00']\n",
            "[73, 4.474331944948062e-05, 3.5338332963874564e-05, '00:00']\n",
            "[74, 2.969795241369866e-05, 0.0001614565699128434, '00:00']\n",
            "[74, 2.969795241369866e-05, 0.0001614565699128434, '00:00']\n",
            "[75, 3.791932977037504e-05, 2.470367689966224e-05, '00:00']\n",
            "[75, 3.791932977037504e-05, 2.470367689966224e-05, '00:00']\n",
            "[76, 2.6919451556750573e-05, 2.3192369553726166e-05, '00:00']\n",
            "[76, 2.6919451556750573e-05, 2.3192369553726166e-05, '00:00']\n",
            "[77, 2.1787538571516052e-05, 4.2123567254748195e-05, '00:00']\n",
            "[77, 2.1787538571516052e-05, 4.2123567254748195e-05, '00:00']\n",
            "[78, 2.3608023184351623e-05, 2.6371451895101927e-05, '00:00']\n",
            "[78, 2.3608023184351623e-05, 2.6371451895101927e-05, '00:00']\n",
            "[79, 1.805090141715482e-05, 1.3516087165044155e-05, '00:00']\n",
            "[79, 1.805090141715482e-05, 1.3516087165044155e-05, '00:00']\n",
            "[80, 1.7865519112092443e-05, 1.1421555427659769e-05, '00:00']\n",
            "[80, 1.7865519112092443e-05, 1.1421555427659769e-05, '00:00']\n",
            "[81, 1.4149331036605872e-05, 1.2995377801416907e-05, '00:00']\n",
            "[81, 1.4149331036605872e-05, 1.2995377801416907e-05, '00:00']\n",
            "[82, 1.2606458767550066e-05, 1.3334921277419198e-05, '00:00']\n",
            "[82, 1.2606458767550066e-05, 1.3334921277419198e-05, '00:00']\n",
            "[83, 1.260413137060823e-05, 9.123750714934431e-06, '00:00']\n",
            "[83, 1.260413137060823e-05, 9.123750714934431e-06, '00:00']\n",
            "[84, 1.0402933185105212e-05, 8.698275451024529e-06, '00:00']\n",
            "[84, 1.0402933185105212e-05, 8.698275451024529e-06, '00:00']\n",
            "[85, 1.0217810995527543e-05, 1.4479132914857473e-05, '00:00']\n",
            "[85, 1.0217810995527543e-05, 1.4479132914857473e-05, '00:00']\n",
            "[86, 9.206204595102463e-06, 8.102558240352664e-06, '00:00']\n",
            "[86, 9.206204595102463e-06, 8.102558240352664e-06, '00:00']\n",
            "[87, 8.331801836902741e-06, 8.32445493870182e-06, '00:00']\n",
            "[87, 8.331801836902741e-06, 8.32445493870182e-06, '00:00']\n",
            "[88, 8.033503945625853e-06, 7.597062904096674e-06, '00:00']\n",
            "[88, 8.033503945625853e-06, 7.597062904096674e-06, '00:00']\n",
            "[89, 8.474731657770462e-06, 9.12091854843311e-06, '00:00']\n",
            "[89, 8.474731657770462e-06, 9.12091854843311e-06, '00:00']\n",
            "[90, 7.5471234595170245e-06, 7.147226824599784e-06, '00:00']\n",
            "[90, 7.5471234595170245e-06, 7.147226824599784e-06, '00:00']\n",
            "[91, 7.141203695937293e-06, 7.627740615134826e-06, '00:00']\n",
            "[91, 7.141203695937293e-06, 7.627740615134826e-06, '00:00']\n",
            "[92, 7.024238129815785e-06, 7.308496606128756e-06, '00:00']\n",
            "[92, 7.024238129815785e-06, 7.308496606128756e-06, '00:00']\n",
            "[93, 6.724099876009859e-06, 6.897915682202438e-06, '00:00']\n",
            "[93, 6.724099876009859e-06, 6.897915682202438e-06, '00:00']\n",
            "[94, 6.5384951994929e-06, 6.6348761720291805e-06, '00:00']\n",
            "[94, 6.5384951994929e-06, 6.6348761720291805e-06, '00:00']\n",
            "[95, 6.391537681338377e-06, 6.716852112731431e-06, '00:00']\n",
            "[95, 6.391537681338377e-06, 6.716852112731431e-06, '00:00']\n",
            "[96, 6.409671641449677e-06, 6.5301410359097645e-06, '00:00']\n",
            "[96, 6.409671641449677e-06, 6.5301410359097645e-06, '00:00']\n",
            "[97, 6.285389645199757e-06, 6.569095603481401e-06, '00:00']\n",
            "[97, 6.285389645199757e-06, 6.569095603481401e-06, '00:00']\n",
            "[98, 6.290743840509094e-06, 6.49103867544909e-06, '00:00']\n",
            "[98, 6.290743840509094e-06, 6.49103867544909e-06, '00:00']\n",
            "[99, 6.142769052530639e-06, 6.4823652792256325e-06, '00:00']\n",
            "[99, 6.142769052530639e-06, 6.4823652792256325e-06, '00:00']\n",
            "Training took 71.8300314510002 seconds\n"
          ],
          "name": "stdout"
        }
      ]
    },
    {
      "cell_type": "markdown",
      "metadata": {
        "id": "5rqFu4LkYzOZ"
      },
      "source": [
        "We now plot the loss to check that it plateaus."
      ]
    },
    {
      "cell_type": "code",
      "metadata": {
        "colab": {
          "base_uri": "https://localhost:8080/",
          "height": 265
        },
        "id": "s0sA3RVqFieQ",
        "outputId": "556b434a-fe4a-44e5-c9cc-0aa55b545499"
      },
      "source": [
        "recorder.plot_loss()"
      ],
      "execution_count": 15,
      "outputs": [
        {
          "output_type": "display_data",
          "data": {
            "image/png": "[encoded data removed]",
            "text/plain": [
              "<Figure size 432x288 with 1 Axes>"
            ]
          },
          "metadata": {
            "tags": [],
            "needs_background": "light"
          }
        }
      ]
    },
    {
      "cell_type": "markdown",
      "metadata": {
        "id": "rlY8lQ5GY5k-"
      },
      "source": [
        "Finally, we check the MSE. It is quite low. Perhaps too low?"
      ]
    },
    {
      "cell_type": "code",
      "metadata": {
        "colab": {
          "base_uri": "https://localhost:8080/"
        },
        "id": "YlPS6PgoFieQ",
        "outputId": "6621e7ba-0e39-4667-e27c-6937e908c75b"
      },
      "source": [
        "learn.validate()"
      ],
      "execution_count": 16,
      "outputs": [
        {
          "output_type": "execute_result",
          "data": {
            "text/plain": [
              "(#1) [6.4823652792256325e-06]"
            ]
          },
          "metadata": {
            "tags": []
          },
          "execution_count": 16
        }
      ]
    },
    {
      "cell_type": "markdown",
      "metadata": {
        "id": "XJ6rzXt9ZGYf"
      },
      "source": [
        "# **Step 5: Plotting the Outputs of the Network**"
      ]
    },
    {
      "cell_type": "markdown",
      "metadata": {
        "id": "iQXzgdqdZQ2z"
      },
      "source": [
        "Saving files."
      ]
    },
    {
      "cell_type": "code",
      "metadata": {
        "id": "oTTGA0N9FieQ"
      },
      "source": [
        "# Validating\n",
        "import os\n",
        "save_dir = \"plotOutput\"\n",
        "if not os.path.exists(save_dir):\n",
        "    os.makedirs(save_dir)"
      ],
      "execution_count": 17,
      "outputs": []
    },
    {
      "cell_type": "markdown",
      "metadata": {
        "id": "NNm0tu8yZTzu"
      },
      "source": [
        "We define a custom_unnormalize function in order to return to physical quantities."
      ]
    },
    {
      "cell_type": "code",
      "metadata": {
        "id": "R6G-gAGVni6d"
      },
      "source": [
        "# Defining a custom_unnormalize function\n",
        "def custom_unnormalize(df):\n",
        "    df['eta'] = df['eta'] * 5\n",
        "    df['phi'] = df['phi'] * 3\n",
        "    df['E'] = 10**df['E']\n",
        "    df['pt'] = 10**(df['pt'])\n",
        "    return df"
      ],
      "execution_count": 18,
      "outputs": []
    },
    {
      "cell_type": "markdown",
      "metadata": {
        "id": "PyfI0AojZjO3"
      },
      "source": [
        "Finally, we plot histograms of the outputs of the network versus the inputs."
      ]
    },
    {
      "cell_type": "code",
      "metadata": {
        "colab": {
          "base_uri": "https://localhost:8080/",
          "height": 1000
        },
        "id": "X6-VxhNVFieR",
        "outputId": "847ea3c9-4f0f-4d69-ab18-3dc8345f87bf"
      },
      "source": [
        "import numpy as np\n",
        "\n",
        "plt.close('all')\n",
        "unit_list = ['[GeV]', '[GeV]', '[rad]', '[rad]']\n",
        "variable_list = [r'$E$', r'$p_T$', r'$\\eta$', r'$\\phi$']\n",
        "line_style = ['--', '-']\n",
        "colors = ['orange', 'c']\n",
        "markers = ['*', 's']\n",
        "\n",
        "model.to('cpu')\n",
        "\n",
        "save = False # Option to save figure\n",
        "\n",
        "# Histograms\n",
        "idxs = (0, 20000)  # Choose events to compare\n",
        "data = torch.tensor(test[idxs[0]:idxs[1]].values, dtype=torch.float)\n",
        "#data = torch.tensor(test[idxs[0]:idxs[1]].values, dtype=torch.float).double()\n",
        "pred = model(data)\n",
        "pred = pred.detach().numpy()\n",
        "data = data.detach().numpy()\n",
        "\n",
        "data_df = pd.DataFrame(data, columns=test.columns)\n",
        "pred_df = pd.DataFrame(pred, columns=test.columns)\n",
        "\n",
        "unnormalized_data_df = custom_unnormalize(data_df)\n",
        "unnormalized_pred_df = custom_unnormalize(pred_df)    \n",
        "    \n",
        "alph = 0.8\n",
        "n_bins = 200\n",
        "for kk in np.arange(4):\n",
        "    plt.figure()\n",
        "    n_hist_data, bin_edges, _ = plt.hist(data[:, kk], color=colors[1], label='Input', alpha=1, bins=n_bins)\n",
        "    n_hist_pred, _, _ = plt.hist(pred[:, kk], color=colors[0], label='Output', alpha=alph, bins=bin_edges)\n",
        "    plt.suptitle(test.columns[kk])\n",
        "    plt.xlabel(test.columns[kk])\n",
        "    plt.ylabel('Number of events')\n",
        "    # ms.sciy()\n",
        "    plt.yscale('log')\n",
        "    if save:\n",
        "        plt.savefig(os.path.join(save_dir,test.columns[kk]+'.png'))\n",
        "    plt.legend()"
      ],
      "execution_count": 19,
      "outputs": [
        {
          "output_type": "display_data",
          "data": {
            "image/png": "[encoded data removed]",
            "text/plain": [
              "<Figure size 432x288 with 1 Axes>"
            ]
          },
          "metadata": {
            "tags": [],
            "needs_background": "light"
          }
        },
        {
          "output_type": "display_data",
          "data": {
            "image/png": "[encoded data removed]",
            "text/plain": [
              "<Figure size 432x288 with 1 Axes>"
            ]
          },
          "metadata": {
            "tags": [],
            "needs_background": "light"
          }
        },
        {
          "output_type": "display_data",
          "data": {
            "image/png": "[encoded data removed]",
            "text/plain": [
              "<Figure size 432x288 with 1 Axes>"
            ]
          },
          "metadata": {
            "tags": [],
            "needs_background": "light"
          }
        },
        {
          "output_type": "display_data",
          "data": {
            "image/png": "[encoded data removed]",
            "text/plain": [
              "<Figure size 432x288 with 1 Axes>"
            ]
          },
          "metadata": {
            "tags": [],
            "needs_background": "light"
          }
        }
      ]
    },
    {
      "cell_type": "code",
      "metadata": {
        "id": "QhXiJWiBcu6V"
      },
      "source": [
        ""
      ],
      "execution_count": null,
      "outputs": []
    }
  ]
}